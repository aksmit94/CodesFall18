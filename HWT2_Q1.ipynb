{
 "cells": [
  {
   "cell_type": "code",
   "execution_count": 25,
   "metadata": {},
   "outputs": [],
   "source": [
    "from collections import deque\n",
    "import networkx as nx"
   ]
  },
  {
   "cell_type": "code",
   "execution_count": 26,
   "metadata": {
    "scrolled": true
   },
   "outputs": [
    {
     "data": {
      "image/png": "[encoded data removed]",
      "text/plain": [
       "<Figure size 432x288 with 1 Axes>"
      ]
     },
     "metadata": {},
     "output_type": "display_data"
    }
   ],
   "source": [
    "test = nx.Graph()\n",
    "test.add_nodes_from([0,8])\n",
    "test.add_edges_from([(0,1), (0,2), (1,3), (2,3), (2,4), (2,5), (3,6), (4,5), (5,6), (5,7), (7,8)])\n",
    "\n",
    "import matplotlib.pyplot as plt\n",
    "\n",
    "nx.draw(test, with_labels = True)\n",
    "                    \n",
    "plt.show()"
   ]
  },
  {
   "cell_type": "code",
   "execution_count": 27,
   "metadata": {},
   "outputs": [],
   "source": [
    "def BFS(G, u, v):\n",
    "    discovered = [0] * len(G.nodes())\n",
    "    dist = [0] * len(G.nodes())\n",
    "    mindist = 1000\n",
    "    numpath = 0\n",
    "    queue = deque([])\n",
    "    discovered[u] = 1\n",
    "    dist[u] = 0\n",
    "    queue.append(u)\n",
    "    while len(queue) > 0:\n",
    "        u = queue.popleft()\n",
    "        for node in G.neighbors(u):\n",
    "            if(discovered[node] == 0):\n",
    "                if(node != v):\n",
    "                    discovered[node] = 1\n",
    "                \n",
    "                dist[node] = dist[u] + 1\n",
    "                \n",
    "                if(dist[node] > mindist):\n",
    "                    break\n",
    "                    \n",
    "                if(node == v and dist[node] <= mindist):\n",
    "                    mindist = dist[node]\n",
    "                    numpath += 1\n",
    "                    \n",
    "                queue.append(node)\n",
    "\n",
    "    return numpath"
   ]
  },
  {
   "cell_type": "code",
   "execution_count": 28,
   "metadata": {},
   "outputs": [
    {
     "data": {
      "text/plain": [
       "2"
      ]
     },
     "execution_count": 28,
     "metadata": {},
     "output_type": "execute_result"
    }
   ],
   "source": [
    "BFS(test, 0, 6)"
   ]
  },
  {
   "cell_type": "code",
   "execution_count": null,
   "metadata": {},
   "outputs": [],
   "source": []
  }
 ],
 "metadata": {
  "kernelspec": {
   "display_name": "Python 3",
   "language": "python",
   "name": "python3"
  },
  "language_info": {
   "codemirror_mode": {
    "name": "ipython",
    "version": 3
   },
   "file_extension": ".py",
   "mimetype": "text/x-python",
   "name": "python",
   "nbconvert_exporter": "python",
   "pygments_lexer": "ipython3",
   "version": "3.7.0"
  }
 },
 "nbformat": 4,
 "nbformat_minor": 2
}
