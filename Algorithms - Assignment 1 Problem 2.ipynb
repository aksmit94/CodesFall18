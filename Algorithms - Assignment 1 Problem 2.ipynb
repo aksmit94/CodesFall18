{
 "cells": [
  {
   "cell_type": "code",
   "execution_count": 4,
   "metadata": {},
   "outputs": [],
   "source": [
    "import numpy as np\n",
    "from scipy.linalg import hadamard\n",
    "\n",
    "def function(vector):\n",
    "    n = len(vector)\n",
    "    \n",
    "    if n==1:\n",
    "        return vector\n",
    "    \n",
    "    else:\n",
    "        \n",
    "        n = n//2\n",
    "        \n",
    "        top = vector[0:n]\n",
    "        bottom = vector[n:]\n",
    "        \n",
    "        x = function(top)\n",
    "        y = function(bottom)\n",
    "        \n",
    "        return np.array([np.add(x,y), np.add(x,-y)])"
   ]
  },
  {
   "cell_type": "code",
   "execution_count": 2,
   "metadata": {
    "collapsed": true
   },
   "outputs": [
    {
     "data": {
      "text/plain": [
       "array([10, -2, -4,  0])"
      ]
     },
     "execution_count": 2,
     "metadata": {},
     "output_type": "execute_result"
    }
   ],
   "source": [
    "hadamard(4)\n",
    "vector = np.array([1,2,3,4])\n",
    "np.matmul(hadamard(4), vector)"
   ]
  },
  {
   "cell_type": "code",
   "execution_count": 5,
   "metadata": {},
   "outputs": [
    {
     "data": {
      "text/plain": [
       "array([[[10],\n",
       "        [-2]],\n",
       "\n",
       "       [[-4],\n",
       "        [ 0]]])"
      ]
     },
     "execution_count": 5,
     "metadata": {},
     "output_type": "execute_result"
    }
   ],
   "source": [
    "function(vector)"
   ]
  },
  {
   "cell_type": "code",
   "execution_count": null,
   "metadata": {},
   "outputs": [],
   "source": []
  }
 ],
 "metadata": {
  "kernelspec": {
   "display_name": "Python 3",
   "language": "python",
   "name": "python3"
  },
  "language_info": {
   "codemirror_mode": {
    "name": "ipython",
    "version": 3
   },
   "file_extension": ".py",
   "mimetype": "text/x-python",
   "name": "python",
   "nbconvert_exporter": "python",
   "pygments_lexer": "ipython3",
   "version": "3.7.0"
  }
 },
 "nbformat": 4,
 "nbformat_minor": 2
}
